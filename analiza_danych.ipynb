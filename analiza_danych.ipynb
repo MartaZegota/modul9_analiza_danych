{
 "cells": [
  {
   "cell_type": "markdown",
   "id": "92260e2f",
   "metadata": {},
   "source": [
    "Pobranie danych pracowników oraz usunięcie kolumn i wierszy z brakami danych."
   ]
  },
  {
   "cell_type": "code",
   "execution_count": 206,
   "id": "f6f9d83a",
   "metadata": {},
   "outputs": [],
   "source": [
    "import pandas as pd\n",
    "import numpy as np\n",
    "import matplotlib.pyplot as plt\n",
    "from datetime import datetime\n",
    "import seaborn as sns"
   ]
  },
  {
   "cell_type": "code",
   "execution_count": 207,
   "id": "34b3b6a0",
   "metadata": {},
   "outputs": [
    {
     "data": {
      "text/html": [
       "<div>\n",
       "<style scoped>\n",
       "    .dataframe tbody tr th:only-of-type {\n",
       "        vertical-align: middle;\n",
       "    }\n",
       "\n",
       "    .dataframe tbody tr th {\n",
       "        vertical-align: top;\n",
       "    }\n",
       "\n",
       "    .dataframe thead th {\n",
       "        text-align: right;\n",
       "    }\n",
       "</style>\n",
       "<table border=\"1\" class=\"dataframe\">\n",
       "  <thead>\n",
       "    <tr style=\"text-align: right;\">\n",
       "      <th></th>\n",
       "      <th>Employee_Name</th>\n",
       "      <th>EmpID</th>\n",
       "      <th>MarriedID</th>\n",
       "      <th>MaritalStatusID</th>\n",
       "      <th>GenderID</th>\n",
       "      <th>EmpStatusID</th>\n",
       "      <th>DeptID</th>\n",
       "      <th>PerfScoreID</th>\n",
       "      <th>FromDiversityJobFairID</th>\n",
       "      <th>PayRate</th>\n",
       "      <th>...</th>\n",
       "      <th>Department</th>\n",
       "      <th>ManagerName</th>\n",
       "      <th>ManagerID</th>\n",
       "      <th>RecruitmentSource</th>\n",
       "      <th>PerformanceScore</th>\n",
       "      <th>EngagementSurvey</th>\n",
       "      <th>EmpSatisfaction</th>\n",
       "      <th>SpecialProjectsCount</th>\n",
       "      <th>LastPerformanceReview_Date</th>\n",
       "      <th>DaysLateLast30</th>\n",
       "    </tr>\n",
       "  </thead>\n",
       "  <tbody>\n",
       "    <tr>\n",
       "      <th>0</th>\n",
       "      <td>Brown, Mia</td>\n",
       "      <td>1.103024e+09</td>\n",
       "      <td>1.0</td>\n",
       "      <td>1.0</td>\n",
       "      <td>0.0</td>\n",
       "      <td>1.0</td>\n",
       "      <td>1.0</td>\n",
       "      <td>3.0</td>\n",
       "      <td>1.0</td>\n",
       "      <td>28.50</td>\n",
       "      <td>...</td>\n",
       "      <td>Admin Offices</td>\n",
       "      <td>Brandon R. LeBlanc</td>\n",
       "      <td>1.0</td>\n",
       "      <td>Diversity Job Fair</td>\n",
       "      <td>Fully Meets</td>\n",
       "      <td>2.04</td>\n",
       "      <td>2.0</td>\n",
       "      <td>6.0</td>\n",
       "      <td>1/15/2019</td>\n",
       "      <td>0.0</td>\n",
       "    </tr>\n",
       "    <tr>\n",
       "      <th>1</th>\n",
       "      <td>LaRotonda, William</td>\n",
       "      <td>1.106027e+09</td>\n",
       "      <td>0.0</td>\n",
       "      <td>2.0</td>\n",
       "      <td>1.0</td>\n",
       "      <td>1.0</td>\n",
       "      <td>1.0</td>\n",
       "      <td>3.0</td>\n",
       "      <td>0.0</td>\n",
       "      <td>23.00</td>\n",
       "      <td>...</td>\n",
       "      <td>Admin Offices</td>\n",
       "      <td>Brandon R. LeBlanc</td>\n",
       "      <td>1.0</td>\n",
       "      <td>Website Banner Ads</td>\n",
       "      <td>Fully Meets</td>\n",
       "      <td>5.00</td>\n",
       "      <td>4.0</td>\n",
       "      <td>4.0</td>\n",
       "      <td>1/17/2019</td>\n",
       "      <td>0.0</td>\n",
       "    </tr>\n",
       "    <tr>\n",
       "      <th>2</th>\n",
       "      <td>Steans, Tyrone</td>\n",
       "      <td>1.302053e+09</td>\n",
       "      <td>0.0</td>\n",
       "      <td>0.0</td>\n",
       "      <td>1.0</td>\n",
       "      <td>1.0</td>\n",
       "      <td>1.0</td>\n",
       "      <td>3.0</td>\n",
       "      <td>0.0</td>\n",
       "      <td>29.00</td>\n",
       "      <td>...</td>\n",
       "      <td>Admin Offices</td>\n",
       "      <td>Brandon R. LeBlanc</td>\n",
       "      <td>1.0</td>\n",
       "      <td>Internet Search</td>\n",
       "      <td>Fully Meets</td>\n",
       "      <td>3.90</td>\n",
       "      <td>5.0</td>\n",
       "      <td>5.0</td>\n",
       "      <td>1/18/2019</td>\n",
       "      <td>0.0</td>\n",
       "    </tr>\n",
       "    <tr>\n",
       "      <th>3</th>\n",
       "      <td>Howard, Estelle</td>\n",
       "      <td>1.211051e+09</td>\n",
       "      <td>1.0</td>\n",
       "      <td>1.0</td>\n",
       "      <td>0.0</td>\n",
       "      <td>1.0</td>\n",
       "      <td>1.0</td>\n",
       "      <td>3.0</td>\n",
       "      <td>0.0</td>\n",
       "      <td>21.50</td>\n",
       "      <td>...</td>\n",
       "      <td>Admin Offices</td>\n",
       "      <td>Brandon R. LeBlanc</td>\n",
       "      <td>1.0</td>\n",
       "      <td>Pay Per Click - Google</td>\n",
       "      <td>Fully Meets</td>\n",
       "      <td>3.24</td>\n",
       "      <td>3.0</td>\n",
       "      <td>4.0</td>\n",
       "      <td>NaN</td>\n",
       "      <td>NaN</td>\n",
       "    </tr>\n",
       "    <tr>\n",
       "      <th>4</th>\n",
       "      <td>Singh, Nan</td>\n",
       "      <td>1.307060e+09</td>\n",
       "      <td>0.0</td>\n",
       "      <td>0.0</td>\n",
       "      <td>0.0</td>\n",
       "      <td>1.0</td>\n",
       "      <td>1.0</td>\n",
       "      <td>3.0</td>\n",
       "      <td>0.0</td>\n",
       "      <td>16.56</td>\n",
       "      <td>...</td>\n",
       "      <td>Admin Offices</td>\n",
       "      <td>Brandon R. LeBlanc</td>\n",
       "      <td>1.0</td>\n",
       "      <td>Website Banner Ads</td>\n",
       "      <td>Fully Meets</td>\n",
       "      <td>5.00</td>\n",
       "      <td>3.0</td>\n",
       "      <td>5.0</td>\n",
       "      <td>1/15/2019</td>\n",
       "      <td>0.0</td>\n",
       "    </tr>\n",
       "  </tbody>\n",
       "</table>\n",
       "<p>5 rows × 35 columns</p>\n",
       "</div>"
      ],
      "text/plain": [
       "          Employee_Name         EmpID  MarriedID  MaritalStatusID  GenderID  \\\n",
       "0            Brown, Mia  1.103024e+09        1.0              1.0       0.0   \n",
       "1  LaRotonda, William    1.106027e+09        0.0              2.0       1.0   \n",
       "2      Steans, Tyrone    1.302053e+09        0.0              0.0       1.0   \n",
       "3       Howard, Estelle  1.211051e+09        1.0              1.0       0.0   \n",
       "4           Singh, Nan   1.307060e+09        0.0              0.0       0.0   \n",
       "\n",
       "   EmpStatusID  DeptID  PerfScoreID  FromDiversityJobFairID  PayRate  ...  \\\n",
       "0          1.0     1.0          3.0                     1.0    28.50  ...   \n",
       "1          1.0     1.0          3.0                     0.0    23.00  ...   \n",
       "2          1.0     1.0          3.0                     0.0    29.00  ...   \n",
       "3          1.0     1.0          3.0                     0.0    21.50  ...   \n",
       "4          1.0     1.0          3.0                     0.0    16.56  ...   \n",
       "\n",
       "      Department         ManagerName ManagerID       RecruitmentSource  \\\n",
       "0  Admin Offices  Brandon R. LeBlanc       1.0      Diversity Job Fair   \n",
       "1  Admin Offices  Brandon R. LeBlanc       1.0      Website Banner Ads   \n",
       "2  Admin Offices  Brandon R. LeBlanc       1.0         Internet Search   \n",
       "3  Admin Offices  Brandon R. LeBlanc       1.0  Pay Per Click - Google   \n",
       "4  Admin Offices  Brandon R. LeBlanc       1.0      Website Banner Ads   \n",
       "\n",
       "   PerformanceScore EngagementSurvey EmpSatisfaction SpecialProjectsCount  \\\n",
       "0       Fully Meets             2.04             2.0                  6.0   \n",
       "1       Fully Meets             5.00             4.0                  4.0   \n",
       "2       Fully Meets             3.90             5.0                  5.0   \n",
       "3       Fully Meets             3.24             3.0                  4.0   \n",
       "4       Fully Meets             5.00             3.0                  5.0   \n",
       "\n",
       "  LastPerformanceReview_Date DaysLateLast30  \n",
       "0                  1/15/2019            0.0  \n",
       "1                  1/17/2019            0.0  \n",
       "2                  1/18/2019            0.0  \n",
       "3                        NaN            NaN  \n",
       "4                  1/15/2019            0.0  \n",
       "\n",
       "[5 rows x 35 columns]"
      ]
     },
     "execution_count": 207,
     "metadata": {},
     "output_type": "execute_result"
    }
   ],
   "source": [
    "df = pd.read_csv('HRDataset.csv')\n",
    "df.head()"
   ]
  },
  {
   "cell_type": "code",
   "execution_count": 208,
   "id": "fa56624f",
   "metadata": {},
   "outputs": [
    {
     "data": {
      "text/plain": [
       "['Employee_Name',\n",
       " 'EmpID',\n",
       " 'MarriedID',\n",
       " 'MaritalStatusID',\n",
       " 'GenderID',\n",
       " 'EmpStatusID',\n",
       " 'DeptID',\n",
       " 'PerfScoreID',\n",
       " 'FromDiversityJobFairID',\n",
       " 'PayRate',\n",
       " 'Termd',\n",
       " 'PositionID',\n",
       " 'Position',\n",
       " 'State',\n",
       " 'Zip',\n",
       " 'DOB',\n",
       " 'Sex',\n",
       " 'MaritalDesc',\n",
       " 'CitizenDesc',\n",
       " 'HispanicLatino',\n",
       " 'RaceDesc',\n",
       " 'DateofHire',\n",
       " 'DateofTermination',\n",
       " 'TermReason',\n",
       " 'EmploymentStatus',\n",
       " 'Department',\n",
       " 'ManagerName',\n",
       " 'ManagerID',\n",
       " 'RecruitmentSource',\n",
       " 'PerformanceScore',\n",
       " 'EngagementSurvey',\n",
       " 'EmpSatisfaction',\n",
       " 'SpecialProjectsCount',\n",
       " 'LastPerformanceReview_Date',\n",
       " 'DaysLateLast30']"
      ]
     },
     "execution_count": 208,
     "metadata": {},
     "output_type": "execute_result"
    }
   ],
   "source": [
    "df.columns.tolist()"
   ]
  },
  {
   "cell_type": "code",
   "execution_count": 209,
   "id": "c27d8906",
   "metadata": {},
   "outputs": [],
   "source": [
    "df.drop(['LastPerformanceReview_Date','DaysLateLast30'],axis=1,inplace=True)"
   ]
  },
  {
   "cell_type": "code",
   "execution_count": 210,
   "id": "aca301a4",
   "metadata": {},
   "outputs": [],
   "source": [
    "df.dropna(thresh=2,inplace=True)"
   ]
  },
  {
   "cell_type": "markdown",
   "id": "dc3af12c",
   "metadata": {},
   "source": [
    "1. Czy istnieje zależność pomiędzy tym, kto jest bezpośrednim przełożonym (ManagerName, ManagerID) danego pracownika, a oceną wydajności pracy (PerformanceScore)?"
   ]
  },
  {
   "cell_type": "code",
   "execution_count": 211,
   "id": "24a72191",
   "metadata": {},
   "outputs": [
    {
     "data": {
      "text/plain": [
       "<seaborn.axisgrid.JointGrid at 0x2b9b2c1b7f0>"
      ]
     },
     "execution_count": 211,
     "metadata": {},
     "output_type": "execute_result"
    },
    {
     "data": {
      "image/png": "[encoded data removed]",
      "text/plain": [
       "<Figure size 432x432 with 3 Axes>"
      ]
     },
     "metadata": {
      "needs_background": "light"
     },
     "output_type": "display_data"
    }
   ],
   "source": [
    "sns.jointplot(x='PerformanceScore',y='ManagerName',data=df)"
   ]
  },
  {
   "cell_type": "markdown",
   "id": "0f09a31d",
   "metadata": {},
   "source": [
    "Odp. Z powyższego wykresu nie wynika zależność pomiędzy przełożonym a wskazywaną przez niego oceną wydajności pracy. Natomiast widać, że menadżerowie najczęściej przyznają pracownikom ocenę \"Fully Meets\", natomiast najrzadziej \"PIP\"."
   ]
  },
  {
   "cell_type": "code",
   "execution_count": 212,
   "id": "bd53a3dd",
   "metadata": {},
   "outputs": [
    {
     "data": {
      "text/html": [
       "<div>\n",
       "<style scoped>\n",
       "    .dataframe tbody tr th:only-of-type {\n",
       "        vertical-align: middle;\n",
       "    }\n",
       "\n",
       "    .dataframe tbody tr th {\n",
       "        vertical-align: top;\n",
       "    }\n",
       "\n",
       "    .dataframe thead th {\n",
       "        text-align: right;\n",
       "    }\n",
       "</style>\n",
       "<table border=\"1\" class=\"dataframe\">\n",
       "  <thead>\n",
       "    <tr style=\"text-align: right;\">\n",
       "      <th>PerformanceScore</th>\n",
       "      <th>Exceeds</th>\n",
       "      <th>Fully Meets</th>\n",
       "      <th>Needs Improvement</th>\n",
       "      <th>PIP</th>\n",
       "    </tr>\n",
       "    <tr>\n",
       "      <th>ManagerName</th>\n",
       "      <th></th>\n",
       "      <th></th>\n",
       "      <th></th>\n",
       "      <th></th>\n",
       "    </tr>\n",
       "  </thead>\n",
       "  <tbody>\n",
       "    <tr>\n",
       "      <th>Alex Sweetwater</th>\n",
       "      <td>2.0</td>\n",
       "      <td>6.0</td>\n",
       "      <td>1.0</td>\n",
       "      <td>0.0</td>\n",
       "    </tr>\n",
       "    <tr>\n",
       "      <th>Amy Dunn</th>\n",
       "      <td>3.0</td>\n",
       "      <td>15.0</td>\n",
       "      <td>1.0</td>\n",
       "      <td>2.0</td>\n",
       "    </tr>\n",
       "    <tr>\n",
       "      <th>Board of Directors</th>\n",
       "      <td>0.0</td>\n",
       "      <td>2.0</td>\n",
       "      <td>0.0</td>\n",
       "      <td>0.0</td>\n",
       "    </tr>\n",
       "    <tr>\n",
       "      <th>Brandon R. LeBlanc</th>\n",
       "      <td>0.0</td>\n",
       "      <td>7.0</td>\n",
       "      <td>0.0</td>\n",
       "      <td>0.0</td>\n",
       "    </tr>\n",
       "    <tr>\n",
       "      <th>Brannon Miller</th>\n",
       "      <td>7.0</td>\n",
       "      <td>9.0</td>\n",
       "      <td>1.0</td>\n",
       "      <td>4.0</td>\n",
       "    </tr>\n",
       "    <tr>\n",
       "      <th>Brian Champaigne</th>\n",
       "      <td>0.0</td>\n",
       "      <td>8.0</td>\n",
       "      <td>0.0</td>\n",
       "      <td>0.0</td>\n",
       "    </tr>\n",
       "    <tr>\n",
       "      <th>David Stanley</th>\n",
       "      <td>1.0</td>\n",
       "      <td>19.0</td>\n",
       "      <td>1.0</td>\n",
       "      <td>0.0</td>\n",
       "    </tr>\n",
       "    <tr>\n",
       "      <th>Debra Houlihan</th>\n",
       "      <td>0.0</td>\n",
       "      <td>2.0</td>\n",
       "      <td>1.0</td>\n",
       "      <td>0.0</td>\n",
       "    </tr>\n",
       "    <tr>\n",
       "      <th>Elijiah Gray</th>\n",
       "      <td>2.0</td>\n",
       "      <td>18.0</td>\n",
       "      <td>2.0</td>\n",
       "      <td>0.0</td>\n",
       "    </tr>\n",
       "    <tr>\n",
       "      <th>Eric Dougall</th>\n",
       "      <td>1.0</td>\n",
       "      <td>3.0</td>\n",
       "      <td>0.0</td>\n",
       "      <td>0.0</td>\n",
       "    </tr>\n",
       "    <tr>\n",
       "      <th>Janet King</th>\n",
       "      <td>4.0</td>\n",
       "      <td>13.0</td>\n",
       "      <td>2.0</td>\n",
       "      <td>0.0</td>\n",
       "    </tr>\n",
       "    <tr>\n",
       "      <th>Jennifer Zamora</th>\n",
       "      <td>2.0</td>\n",
       "      <td>4.0</td>\n",
       "      <td>1.0</td>\n",
       "      <td>0.0</td>\n",
       "    </tr>\n",
       "    <tr>\n",
       "      <th>John Smith</th>\n",
       "      <td>0.0</td>\n",
       "      <td>12.0</td>\n",
       "      <td>0.0</td>\n",
       "      <td>2.0</td>\n",
       "    </tr>\n",
       "    <tr>\n",
       "      <th>Kelley Spirea</th>\n",
       "      <td>3.0</td>\n",
       "      <td>18.0</td>\n",
       "      <td>1.0</td>\n",
       "      <td>0.0</td>\n",
       "    </tr>\n",
       "    <tr>\n",
       "      <th>Ketsia Liebig</th>\n",
       "      <td>2.0</td>\n",
       "      <td>18.0</td>\n",
       "      <td>1.0</td>\n",
       "      <td>0.0</td>\n",
       "    </tr>\n",
       "    <tr>\n",
       "      <th>Kissy Sullivan</th>\n",
       "      <td>2.0</td>\n",
       "      <td>18.0</td>\n",
       "      <td>1.0</td>\n",
       "      <td>1.0</td>\n",
       "    </tr>\n",
       "    <tr>\n",
       "      <th>Lynn Daneault</th>\n",
       "      <td>2.0</td>\n",
       "      <td>10.0</td>\n",
       "      <td>0.0</td>\n",
       "      <td>1.0</td>\n",
       "    </tr>\n",
       "    <tr>\n",
       "      <th>Michael Albert</th>\n",
       "      <td>2.0</td>\n",
       "      <td>16.0</td>\n",
       "      <td>3.0</td>\n",
       "      <td>1.0</td>\n",
       "    </tr>\n",
       "    <tr>\n",
       "      <th>Peter Monroe</th>\n",
       "      <td>0.0</td>\n",
       "      <td>13.0</td>\n",
       "      <td>0.0</td>\n",
       "      <td>1.0</td>\n",
       "    </tr>\n",
       "    <tr>\n",
       "      <th>Simon Roup</th>\n",
       "      <td>2.0</td>\n",
       "      <td>15.0</td>\n",
       "      <td>0.0</td>\n",
       "      <td>0.0</td>\n",
       "    </tr>\n",
       "    <tr>\n",
       "      <th>Webster Butler</th>\n",
       "      <td>2.0</td>\n",
       "      <td>17.0</td>\n",
       "      <td>2.0</td>\n",
       "      <td>0.0</td>\n",
       "    </tr>\n",
       "  </tbody>\n",
       "</table>\n",
       "</div>"
      ],
      "text/plain": [
       "PerformanceScore    Exceeds  Fully Meets  Needs Improvement  PIP\n",
       "ManagerName                                                     \n",
       "Alex Sweetwater         2.0          6.0                1.0  0.0\n",
       "Amy Dunn                3.0         15.0                1.0  2.0\n",
       "Board of Directors      0.0          2.0                0.0  0.0\n",
       "Brandon R. LeBlanc      0.0          7.0                0.0  0.0\n",
       "Brannon Miller          7.0          9.0                1.0  4.0\n",
       "Brian Champaigne        0.0          8.0                0.0  0.0\n",
       "David Stanley           1.0         19.0                1.0  0.0\n",
       "Debra Houlihan          0.0          2.0                1.0  0.0\n",
       "Elijiah Gray            2.0         18.0                2.0  0.0\n",
       "Eric Dougall            1.0          3.0                0.0  0.0\n",
       "Janet King              4.0         13.0                2.0  0.0\n",
       "Jennifer Zamora         2.0          4.0                1.0  0.0\n",
       "John Smith              0.0         12.0                0.0  2.0\n",
       "Kelley Spirea           3.0         18.0                1.0  0.0\n",
       "Ketsia Liebig           2.0         18.0                1.0  0.0\n",
       "Kissy Sullivan          2.0         18.0                1.0  1.0\n",
       "Lynn Daneault           2.0         10.0                0.0  1.0\n",
       "Michael Albert          2.0         16.0                3.0  1.0\n",
       "Peter Monroe            0.0         13.0                0.0  1.0\n",
       "Simon Roup              2.0         15.0                0.0  0.0\n",
       "Webster Butler          2.0         17.0                2.0  0.0"
      ]
     },
     "execution_count": 212,
     "metadata": {},
     "output_type": "execute_result"
    }
   ],
   "source": [
    "df.pivot_table(index=df['ManagerName'],columns=df['PerformanceScore'],values='PerformanceScore',aggfunc='count').fillna(0)"
   ]
  },
  {
   "cell_type": "markdown",
   "id": "a2fc3ee0",
   "metadata": {},
   "source": [
    "Podobny wniosek do wcześniejszego można sformułować na podstawie danych widocznych w tabeli powyżej oraz z widocznej poniżej heatmapy."
   ]
  },
  {
   "cell_type": "code",
   "execution_count": 213,
   "id": "a11edfd1",
   "metadata": {},
   "outputs": [
    {
     "data": {
      "text/plain": [
       "<AxesSubplot:xlabel='PerformanceScore', ylabel='ManagerName'>"
      ]
     },
     "execution_count": 213,
     "metadata": {},
     "output_type": "execute_result"
    },
    {
     "data": {
      "image/png": "[encoded data removed]",
      "text/plain": [
       "<Figure size 1080x360 with 2 Axes>"
      ]
     },
     "metadata": {
      "needs_background": "light"
     },
     "output_type": "display_data"
    }
   ],
   "source": [
    "plt.figure(figsize=(15,5))\n",
    "sns.heatmap(df.pivot_table(index=df['ManagerName'],columns=df['PerformanceScore'],values='PerformanceScore',aggfunc='count').fillna(0))"
   ]
  },
  {
   "cell_type": "markdown",
   "id": "360def0f",
   "metadata": {},
   "source": [
    "2. Jakie źródła pozyskania pracownika (RecruitmentSource) są najlepsze, jeśli zależy nam na jak najdłuższym stażu pracowników?"
   ]
  },
  {
   "cell_type": "markdown",
   "id": "10693f65",
   "metadata": {},
   "source": [
    "a) W zaimportowanych danych nie ma informacji o stażu pracy - korzystam z funkcji wyliczającej staż pracy podanej w submodule 9.2, wcześniej ujednolicając format dat."
   ]
  },
  {
   "cell_type": "code",
   "execution_count": 214,
   "id": "076d891f",
   "metadata": {},
   "outputs": [
    {
     "data": {
      "text/plain": [
       "DateofTermination    object\n",
       "DOB                  object\n",
       "DateofHire           object\n",
       "dtype: object"
      ]
     },
     "execution_count": 214,
     "metadata": {},
     "output_type": "execute_result"
    }
   ],
   "source": [
    "df[['DateofTermination','DOB','DateofHire']].dtypes"
   ]
  },
  {
   "cell_type": "code",
   "execution_count": 215,
   "id": "6e72eebd",
   "metadata": {},
   "outputs": [
    {
     "data": {
      "text/html": [
       "<div>\n",
       "<style scoped>\n",
       "    .dataframe tbody tr th:only-of-type {\n",
       "        vertical-align: middle;\n",
       "    }\n",
       "\n",
       "    .dataframe tbody tr th {\n",
       "        vertical-align: top;\n",
       "    }\n",
       "\n",
       "    .dataframe thead th {\n",
       "        text-align: right;\n",
       "    }\n",
       "</style>\n",
       "<table border=\"1\" class=\"dataframe\">\n",
       "  <thead>\n",
       "    <tr style=\"text-align: right;\">\n",
       "      <th></th>\n",
       "      <th>DateofTermination</th>\n",
       "      <th>DOB</th>\n",
       "      <th>DateofHire</th>\n",
       "    </tr>\n",
       "  </thead>\n",
       "  <tbody>\n",
       "    <tr>\n",
       "      <th>0</th>\n",
       "      <td>NaN</td>\n",
       "      <td>11/24/87</td>\n",
       "      <td>10/27/2008</td>\n",
       "    </tr>\n",
       "    <tr>\n",
       "      <th>1</th>\n",
       "      <td>NaN</td>\n",
       "      <td>04/26/84</td>\n",
       "      <td>1/6/2014</td>\n",
       "    </tr>\n",
       "    <tr>\n",
       "      <th>2</th>\n",
       "      <td>NaN</td>\n",
       "      <td>09/01/86</td>\n",
       "      <td>9/29/2014</td>\n",
       "    </tr>\n",
       "    <tr>\n",
       "      <th>3</th>\n",
       "      <td>04/15/15</td>\n",
       "      <td>09/16/85</td>\n",
       "      <td>2/16/2015</td>\n",
       "    </tr>\n",
       "    <tr>\n",
       "      <th>4</th>\n",
       "      <td>NaN</td>\n",
       "      <td>05/19/88</td>\n",
       "      <td>5/1/2015</td>\n",
       "    </tr>\n",
       "  </tbody>\n",
       "</table>\n",
       "</div>"
      ],
      "text/plain": [
       "  DateofTermination       DOB  DateofHire\n",
       "0               NaN  11/24/87  10/27/2008\n",
       "1               NaN  04/26/84    1/6/2014\n",
       "2               NaN  09/01/86   9/29/2014\n",
       "3          04/15/15  09/16/85   2/16/2015\n",
       "4               NaN  05/19/88    5/1/2015"
      ]
     },
     "execution_count": 215,
     "metadata": {},
     "output_type": "execute_result"
    }
   ],
   "source": [
    "df[['DateofTermination','DOB','DateofHire']].head()"
   ]
  },
  {
   "cell_type": "code",
   "execution_count": 216,
   "id": "c18f69ff",
   "metadata": {},
   "outputs": [],
   "source": [
    "df['DOB'] = pd.to_datetime(df['DOB'],format='%m/%d/%y')\n",
    "df['DateofHire'] = pd.to_datetime(df['DateofHire'],format='%m/%d/%Y')\n",
    "df['DateofTermination'] = pd.to_datetime(df['DateofTermination'],format='%m/%d/%y')"
   ]
  },
  {
   "cell_type": "code",
   "execution_count": 217,
   "id": "fba12719",
   "metadata": {},
   "outputs": [
    {
     "data": {
      "text/html": [
       "<div>\n",
       "<style scoped>\n",
       "    .dataframe tbody tr th:only-of-type {\n",
       "        vertical-align: middle;\n",
       "    }\n",
       "\n",
       "    .dataframe tbody tr th {\n",
       "        vertical-align: top;\n",
       "    }\n",
       "\n",
       "    .dataframe thead th {\n",
       "        text-align: right;\n",
       "    }\n",
       "</style>\n",
       "<table border=\"1\" class=\"dataframe\">\n",
       "  <thead>\n",
       "    <tr style=\"text-align: right;\">\n",
       "      <th></th>\n",
       "      <th>DateofTermination</th>\n",
       "      <th>DOB</th>\n",
       "      <th>DateofHire</th>\n",
       "    </tr>\n",
       "  </thead>\n",
       "  <tbody>\n",
       "    <tr>\n",
       "      <th>0</th>\n",
       "      <td>NaT</td>\n",
       "      <td>1987-11-24</td>\n",
       "      <td>2008-10-27</td>\n",
       "    </tr>\n",
       "    <tr>\n",
       "      <th>1</th>\n",
       "      <td>NaT</td>\n",
       "      <td>1984-04-26</td>\n",
       "      <td>2014-01-06</td>\n",
       "    </tr>\n",
       "    <tr>\n",
       "      <th>2</th>\n",
       "      <td>NaT</td>\n",
       "      <td>1986-09-01</td>\n",
       "      <td>2014-09-29</td>\n",
       "    </tr>\n",
       "    <tr>\n",
       "      <th>3</th>\n",
       "      <td>2015-04-15</td>\n",
       "      <td>1985-09-16</td>\n",
       "      <td>2015-02-16</td>\n",
       "    </tr>\n",
       "    <tr>\n",
       "      <th>4</th>\n",
       "      <td>NaT</td>\n",
       "      <td>1988-05-19</td>\n",
       "      <td>2015-05-01</td>\n",
       "    </tr>\n",
       "  </tbody>\n",
       "</table>\n",
       "</div>"
      ],
      "text/plain": [
       "  DateofTermination        DOB DateofHire\n",
       "0               NaT 1987-11-24 2008-10-27\n",
       "1               NaT 1984-04-26 2014-01-06\n",
       "2               NaT 1986-09-01 2014-09-29\n",
       "3        2015-04-15 1985-09-16 2015-02-16\n",
       "4               NaT 1988-05-19 2015-05-01"
      ]
     },
     "execution_count": 217,
     "metadata": {},
     "output_type": "execute_result"
    }
   ],
   "source": [
    "df[['DateofTermination','DOB','DateofHire']].head()"
   ]
  },
  {
   "cell_type": "code",
   "execution_count": 218,
   "id": "912178f6",
   "metadata": {},
   "outputs": [],
   "source": [
    "import datetime as dt\n",
    "\n",
    "def count_seniority(row):\n",
    "\n",
    "    if pd.isnull(row['DateofTermination']):\n",
    "        end_date = dt.datetime(2019,9,27)\n",
    "    else:\n",
    "        end_date = row['DateofTermination']\n",
    "\n",
    "    return (end_date - row['DateofHire'])/np.timedelta64(1,'Y')"
   ]
  },
  {
   "cell_type": "code",
   "execution_count": 219,
   "id": "7f927f50",
   "metadata": {},
   "outputs": [],
   "source": [
    "df['Seniority'] = df.apply(lambda row: count_seniority(row),axis=1)"
   ]
  },
  {
   "cell_type": "code",
   "execution_count": 220,
   "id": "5f75a452",
   "metadata": {},
   "outputs": [
    {
     "data": {
      "text/html": [
       "<div>\n",
       "<style scoped>\n",
       "    .dataframe tbody tr th:only-of-type {\n",
       "        vertical-align: middle;\n",
       "    }\n",
       "\n",
       "    .dataframe tbody tr th {\n",
       "        vertical-align: top;\n",
       "    }\n",
       "\n",
       "    .dataframe thead th {\n",
       "        text-align: right;\n",
       "    }\n",
       "</style>\n",
       "<table border=\"1\" class=\"dataframe\">\n",
       "  <thead>\n",
       "    <tr style=\"text-align: right;\">\n",
       "      <th></th>\n",
       "      <th>DateofHire</th>\n",
       "      <th>DateofTermination</th>\n",
       "      <th>Seniority</th>\n",
       "    </tr>\n",
       "  </thead>\n",
       "  <tbody>\n",
       "    <tr>\n",
       "      <th>0</th>\n",
       "      <td>2008-10-27</td>\n",
       "      <td>NaT</td>\n",
       "      <td>10.916035</td>\n",
       "    </tr>\n",
       "    <tr>\n",
       "      <th>1</th>\n",
       "      <td>2014-01-06</td>\n",
       "      <td>NaT</td>\n",
       "      <td>5.722226</td>\n",
       "    </tr>\n",
       "    <tr>\n",
       "      <th>2</th>\n",
       "      <td>2014-09-29</td>\n",
       "      <td>NaT</td>\n",
       "      <td>4.993942</td>\n",
       "    </tr>\n",
       "    <tr>\n",
       "      <th>3</th>\n",
       "      <td>2015-02-16</td>\n",
       "      <td>2015-04-15</td>\n",
       "      <td>0.158799</td>\n",
       "    </tr>\n",
       "    <tr>\n",
       "      <th>4</th>\n",
       "      <td>2015-05-01</td>\n",
       "      <td>NaT</td>\n",
       "      <td>4.408030</td>\n",
       "    </tr>\n",
       "    <tr>\n",
       "      <th>5</th>\n",
       "      <td>2011-09-26</td>\n",
       "      <td>2013-09-25</td>\n",
       "      <td>1.998672</td>\n",
       "    </tr>\n",
       "    <tr>\n",
       "      <th>6</th>\n",
       "      <td>2011-08-15</td>\n",
       "      <td>2014-08-02</td>\n",
       "      <td>2.965153</td>\n",
       "    </tr>\n",
       "    <tr>\n",
       "      <th>7</th>\n",
       "      <td>2014-08-18</td>\n",
       "      <td>NaT</td>\n",
       "      <td>5.108934</td>\n",
       "    </tr>\n",
       "    <tr>\n",
       "      <th>8</th>\n",
       "      <td>2012-02-20</td>\n",
       "      <td>NaT</td>\n",
       "      <td>7.600430</td>\n",
       "    </tr>\n",
       "    <tr>\n",
       "      <th>9</th>\n",
       "      <td>2014-08-18</td>\n",
       "      <td>NaT</td>\n",
       "      <td>5.108934</td>\n",
       "    </tr>\n",
       "  </tbody>\n",
       "</table>\n",
       "</div>"
      ],
      "text/plain": [
       "  DateofHire DateofTermination  Seniority\n",
       "0 2008-10-27               NaT  10.916035\n",
       "1 2014-01-06               NaT   5.722226\n",
       "2 2014-09-29               NaT   4.993942\n",
       "3 2015-02-16        2015-04-15   0.158799\n",
       "4 2015-05-01               NaT   4.408030\n",
       "5 2011-09-26        2013-09-25   1.998672\n",
       "6 2011-08-15        2014-08-02   2.965153\n",
       "7 2014-08-18               NaT   5.108934\n",
       "8 2012-02-20               NaT   7.600430\n",
       "9 2014-08-18               NaT   5.108934"
      ]
     },
     "execution_count": 220,
     "metadata": {},
     "output_type": "execute_result"
    }
   ],
   "source": [
    "df[['DateofHire','DateofTermination','Seniority']][:10]"
   ]
  },
  {
   "cell_type": "markdown",
   "id": "2d2599c7",
   "metadata": {},
   "source": [
    "b) Teraz sprawdzam czy istnieje zależność pomiędzy źródłem pozyskania pracownika a stażem pracy."
   ]
  },
  {
   "cell_type": "code",
   "execution_count": 221,
   "id": "0e26b09a",
   "metadata": {},
   "outputs": [
    {
     "data": {
      "text/plain": [
       "<seaborn.axisgrid.JointGrid at 0x2b9f009f640>"
      ]
     },
     "execution_count": 221,
     "metadata": {},
     "output_type": "execute_result"
    },
    {
     "data": {
      "image/png": "[encoded data removed]",
      "text/plain": [
       "<Figure size 432x432 with 3 Axes>"
      ]
     },
     "metadata": {
      "needs_background": "light"
     },
     "output_type": "display_data"
    }
   ],
   "source": [
    "sns.jointplot(x='Seniority',y='RecruitmentSource',data=df)"
   ]
  },
  {
   "cell_type": "markdown",
   "id": "38021662",
   "metadata": {},
   "source": [
    "Odp. Na powyższym wykresie nie widać wyraźnej zależności pomiędzy źródłem pozyskania pracownika, a stażem pracy. Natomiast widać, także w poniższej tabeli (procentowy udział poszczególnych źródeł rekrutacji), że naczęstszym sposobem pozyskania pracownika było \"Employee Referral\" - 10%, \"Diversity Job Fair\" - 9% i \"Search Engine - Google Bing Yahoo\" - 8%, natomiast \"Company Intranet - Partner\", \"Careerbuilder\" i \"Careerbuilder\" (po 0,3%) są małoskutecznym lub rzadko używanym narzędziem pozyskiwania pracowników."
   ]
  },
  {
   "cell_type": "code",
   "execution_count": 222,
   "id": "dd966159",
   "metadata": {},
   "outputs": [
    {
     "data": {
      "text/plain": [
       "Employee Referral                         0.100000\n",
       "Diversity Job Fair                        0.093548\n",
       "Search Engine - Google Bing Yahoo         0.080645\n",
       "Monster.com                               0.077419\n",
       "Pay Per Click - Google                    0.067742\n",
       "Professional Society                      0.064516\n",
       "Newspager/Magazine                        0.058065\n",
       "MBTA ads                                  0.054839\n",
       "Billboard                                 0.051613\n",
       "Vendor Referral                           0.048387\n",
       "Glassdoor                                 0.045161\n",
       "Word of Mouth                             0.041935\n",
       "Website Banner Ads                        0.041935\n",
       "On-campus Recruiting                      0.038710\n",
       "Social Networks - Facebook Twitter etc    0.035484\n",
       "Other                                     0.029032\n",
       "Indeed                                    0.025806\n",
       "Internet Search                           0.019355\n",
       "Information Session                       0.012903\n",
       "Pay Per Click                             0.003226\n",
       "On-line Web application                   0.003226\n",
       "Careerbuilder                             0.003226\n",
       "Company Intranet - Partner                0.003226\n",
       "Name: RecruitmentSource, dtype: float64"
      ]
     },
     "execution_count": 222,
     "metadata": {},
     "output_type": "execute_result"
    }
   ],
   "source": [
    "df['RecruitmentSource'].value_counts(normalize=True)"
   ]
  },
  {
   "cell_type": "markdown",
   "id": "3db09205",
   "metadata": {},
   "source": [
    "3. Czy stan cywilny (MaritalDesc) pracownika koreluje w jakikolwiek sposób z zadowoleniem z pracy (EmpSatisfaction)?"
   ]
  },
  {
   "cell_type": "code",
   "execution_count": 223,
   "id": "48c6b6e4",
   "metadata": {
    "scrolled": true
   },
   "outputs": [
    {
     "data": {
      "text/plain": [
       "<AxesSubplot:xlabel='MaritalDesc', ylabel='EmpSatisfaction'>"
      ]
     },
     "execution_count": 223,
     "metadata": {},
     "output_type": "execute_result"
    },
    {
     "data": {
      "image/png": "[encoded data removed]",
      "text/plain": [
       "<Figure size 1080x360 with 1 Axes>"
      ]
     },
     "metadata": {
      "needs_background": "light"
     },
     "output_type": "display_data"
    }
   ],
   "source": [
    "plt.figure(figsize=(15,5))\n",
    "sns.barplot(x='MaritalDesc',y='EmpSatisfaction',data=df)"
   ]
  },
  {
   "cell_type": "markdown",
   "id": "bcd42dfe",
   "metadata": {},
   "source": [
    "Odp. Z powyższego wykresu wynika, że zadowolenie pracowników jest na zbliżonym poziomie bez względu na stan cywilny.\n",
    "\n",
    "Jeśli występowałyby spore rozbieżności w poziomie zadowolenia z pracy w poszczególnych kategoriach stanu cywilnego należałoby zbadać liczebność poszczególnych rodzajów kategorii \"MaritalDesc\" i wyłączyć z analizy te niereprezentatywne (o niskiej ilości), gdyż mogłyby fałszować wynik (prowadzić do błędnych wniosków).\n",
    "\n",
    "Z ciekawości dodatkowo przeanalizowałam ilość pracowników w danej kategorii \"MaritalDesc\" - z poniższej tabeli i wykresu wynika, że najwięcej pracowników jest w stanie \"Single\" i \"Married\"."
   ]
  },
  {
   "cell_type": "code",
   "execution_count": 224,
   "id": "d1e1d354",
   "metadata": {},
   "outputs": [
    {
     "data": {
      "text/plain": [
       "Single       137\n",
       "Married      123\n",
       "Divorced      30\n",
       "Separated     12\n",
       "Widowed        8\n",
       "Name: MaritalDesc, dtype: int64"
      ]
     },
     "execution_count": 224,
     "metadata": {},
     "output_type": "execute_result"
    }
   ],
   "source": [
    "df['MaritalDesc'].value_counts()"
   ]
  },
  {
   "cell_type": "code",
   "execution_count": 225,
   "id": "56f1de50",
   "metadata": {},
   "outputs": [
    {
     "data": {
      "text/plain": [
       "<AxesSubplot:xlabel='MaritalDesc', ylabel='count'>"
      ]
     },
     "execution_count": 225,
     "metadata": {},
     "output_type": "execute_result"
    },
    {
     "data": {
      "image/png": "[encoded data removed]",
      "text/plain": [
       "<Figure size 1080x360 with 1 Axes>"
      ]
     },
     "metadata": {
      "needs_background": "light"
     },
     "output_type": "display_data"
    }
   ],
   "source": [
    "plt.figure(figsize=(15,5))\n",
    "sns.countplot(x='MaritalDesc',data=df)"
   ]
  },
  {
   "cell_type": "markdown",
   "id": "d4f9a37d",
   "metadata": {},
   "source": [
    "4. Jak wygląda struktura wieku aktualnie zatrudnionych pracowników?"
   ]
  },
  {
   "cell_type": "markdown",
   "id": "2abef3e6",
   "metadata": {},
   "source": [
    "a) W zaimportowanych danych nie ma informacji o wieku pracowników, który wyliczam w dodatkowej kolumnie, wcześniej ujednolicając format dat."
   ]
  },
  {
   "cell_type": "code",
   "execution_count": 226,
   "id": "6dea58f2",
   "metadata": {},
   "outputs": [],
   "source": [
    "df['DOB'] = pd.to_datetime(df['DOB'],format='%m/%d/%y')\n",
    "df['DateofHire'] = pd.to_datetime(df['DateofHire'],format='%m/%d/%Y')\n",
    "df['DateofTermination'] = pd.to_datetime(df['DateofTermination'],format='%m/%d/%y')"
   ]
  },
  {
   "cell_type": "code",
   "execution_count": 227,
   "id": "d038bcb9",
   "metadata": {},
   "outputs": [
    {
     "data": {
      "text/html": [
       "<div>\n",
       "<style scoped>\n",
       "    .dataframe tbody tr th:only-of-type {\n",
       "        vertical-align: middle;\n",
       "    }\n",
       "\n",
       "    .dataframe tbody tr th {\n",
       "        vertical-align: top;\n",
       "    }\n",
       "\n",
       "    .dataframe thead th {\n",
       "        text-align: right;\n",
       "    }\n",
       "</style>\n",
       "<table border=\"1\" class=\"dataframe\">\n",
       "  <thead>\n",
       "    <tr style=\"text-align: right;\">\n",
       "      <th></th>\n",
       "      <th>DateofTermination</th>\n",
       "      <th>DOB</th>\n",
       "      <th>DateofHire</th>\n",
       "    </tr>\n",
       "  </thead>\n",
       "  <tbody>\n",
       "    <tr>\n",
       "      <th>0</th>\n",
       "      <td>NaT</td>\n",
       "      <td>1987-11-24</td>\n",
       "      <td>2008-10-27</td>\n",
       "    </tr>\n",
       "    <tr>\n",
       "      <th>1</th>\n",
       "      <td>NaT</td>\n",
       "      <td>1984-04-26</td>\n",
       "      <td>2014-01-06</td>\n",
       "    </tr>\n",
       "    <tr>\n",
       "      <th>2</th>\n",
       "      <td>NaT</td>\n",
       "      <td>1986-09-01</td>\n",
       "      <td>2014-09-29</td>\n",
       "    </tr>\n",
       "    <tr>\n",
       "      <th>3</th>\n",
       "      <td>2015-04-15</td>\n",
       "      <td>1985-09-16</td>\n",
       "      <td>2015-02-16</td>\n",
       "    </tr>\n",
       "    <tr>\n",
       "      <th>4</th>\n",
       "      <td>NaT</td>\n",
       "      <td>1988-05-19</td>\n",
       "      <td>2015-05-01</td>\n",
       "    </tr>\n",
       "  </tbody>\n",
       "</table>\n",
       "</div>"
      ],
      "text/plain": [
       "  DateofTermination        DOB DateofHire\n",
       "0               NaT 1987-11-24 2008-10-27\n",
       "1               NaT 1984-04-26 2014-01-06\n",
       "2               NaT 1986-09-01 2014-09-29\n",
       "3        2015-04-15 1985-09-16 2015-02-16\n",
       "4               NaT 1988-05-19 2015-05-01"
      ]
     },
     "execution_count": 227,
     "metadata": {},
     "output_type": "execute_result"
    }
   ],
   "source": [
    "df[['DateofTermination','DOB','DateofHire']].head()"
   ]
  },
  {
   "cell_type": "code",
   "execution_count": 228,
   "id": "6200c7e2",
   "metadata": {},
   "outputs": [],
   "source": [
    "import datetime as dt\n",
    "\n",
    "def count_age(row):\n",
    "\n",
    "    if pd.isnull(row['DateofTermination']):\n",
    "        end_date = dt.datetime(2019,9,27)\n",
    "#     else:\n",
    "#         end_date = row['DateofTermination']\n",
    "\n",
    "        return (end_date - row['DOB'])/np.timedelta64(1,'Y')"
   ]
  },
  {
   "cell_type": "code",
   "execution_count": 229,
   "id": "cd51e807",
   "metadata": {},
   "outputs": [],
   "source": [
    "df['Age'] = df.apply(lambda row: count_age(row),axis=1)"
   ]
  },
  {
   "cell_type": "code",
   "execution_count": 230,
   "id": "c175fe2e",
   "metadata": {},
   "outputs": [
    {
     "data": {
      "text/html": [
       "<div>\n",
       "<style scoped>\n",
       "    .dataframe tbody tr th:only-of-type {\n",
       "        vertical-align: middle;\n",
       "    }\n",
       "\n",
       "    .dataframe tbody tr th {\n",
       "        vertical-align: top;\n",
       "    }\n",
       "\n",
       "    .dataframe thead th {\n",
       "        text-align: right;\n",
       "    }\n",
       "</style>\n",
       "<table border=\"1\" class=\"dataframe\">\n",
       "  <thead>\n",
       "    <tr style=\"text-align: right;\">\n",
       "      <th></th>\n",
       "      <th>DateofHire</th>\n",
       "      <th>DateofTermination</th>\n",
       "      <th>DOB</th>\n",
       "      <th>Age</th>\n",
       "    </tr>\n",
       "  </thead>\n",
       "  <tbody>\n",
       "    <tr>\n",
       "      <th>0</th>\n",
       "      <td>2008-10-27</td>\n",
       "      <td>NaT</td>\n",
       "      <td>1987-11-24</td>\n",
       "      <td>31.841858</td>\n",
       "    </tr>\n",
       "    <tr>\n",
       "      <th>1</th>\n",
       "      <td>2014-01-06</td>\n",
       "      <td>NaT</td>\n",
       "      <td>1984-04-26</td>\n",
       "      <td>35.420303</td>\n",
       "    </tr>\n",
       "    <tr>\n",
       "      <th>2</th>\n",
       "      <td>2014-09-29</td>\n",
       "      <td>NaT</td>\n",
       "      <td>1986-09-01</td>\n",
       "      <td>33.071179</td>\n",
       "    </tr>\n",
       "    <tr>\n",
       "      <th>3</th>\n",
       "      <td>2015-02-16</td>\n",
       "      <td>2015-04-15</td>\n",
       "      <td>1985-09-16</td>\n",
       "      <td>NaN</td>\n",
       "    </tr>\n",
       "    <tr>\n",
       "      <th>4</th>\n",
       "      <td>2015-05-01</td>\n",
       "      <td>NaT</td>\n",
       "      <td>1988-05-19</td>\n",
       "      <td>31.357249</td>\n",
       "    </tr>\n",
       "    <tr>\n",
       "      <th>5</th>\n",
       "      <td>2011-09-26</td>\n",
       "      <td>2013-09-25</td>\n",
       "      <td>1987-06-14</td>\n",
       "      <td>NaN</td>\n",
       "    </tr>\n",
       "    <tr>\n",
       "      <th>6</th>\n",
       "      <td>2011-08-15</td>\n",
       "      <td>2014-08-02</td>\n",
       "      <td>2064-06-01</td>\n",
       "      <td>NaN</td>\n",
       "    </tr>\n",
       "    <tr>\n",
       "      <th>7</th>\n",
       "      <td>2014-08-18</td>\n",
       "      <td>NaT</td>\n",
       "      <td>2063-05-15</td>\n",
       "      <td>-43.631286</td>\n",
       "    </tr>\n",
       "    <tr>\n",
       "      <th>8</th>\n",
       "      <td>2012-02-20</td>\n",
       "      <td>NaT</td>\n",
       "      <td>1987-05-14</td>\n",
       "      <td>32.373012</td>\n",
       "    </tr>\n",
       "    <tr>\n",
       "      <th>9</th>\n",
       "      <td>2014-08-18</td>\n",
       "      <td>NaT</td>\n",
       "      <td>1988-09-14</td>\n",
       "      <td>31.034176</td>\n",
       "    </tr>\n",
       "  </tbody>\n",
       "</table>\n",
       "</div>"
      ],
      "text/plain": [
       "  DateofHire DateofTermination        DOB        Age\n",
       "0 2008-10-27               NaT 1987-11-24  31.841858\n",
       "1 2014-01-06               NaT 1984-04-26  35.420303\n",
       "2 2014-09-29               NaT 1986-09-01  33.071179\n",
       "3 2015-02-16        2015-04-15 1985-09-16        NaN\n",
       "4 2015-05-01               NaT 1988-05-19  31.357249\n",
       "5 2011-09-26        2013-09-25 1987-06-14        NaN\n",
       "6 2011-08-15        2014-08-02 2064-06-01        NaN\n",
       "7 2014-08-18               NaT 2063-05-15 -43.631286\n",
       "8 2012-02-20               NaT 1987-05-14  32.373012\n",
       "9 2014-08-18               NaT 1988-09-14  31.034176"
      ]
     },
     "execution_count": 230,
     "metadata": {},
     "output_type": "execute_result"
    }
   ],
   "source": [
    "df[['DateofHire','DateofTermination','DOB','Age']][:10]"
   ]
  },
  {
   "cell_type": "markdown",
   "id": "f2573e30",
   "metadata": {},
   "source": [
    "b) Na histogramie przedstawiam strukturę wieku aktualnie zatrudnionych pracowników."
   ]
  },
  {
   "cell_type": "code",
   "execution_count": 232,
   "id": "c9979231",
   "metadata": {},
   "outputs": [
    {
     "name": "stderr",
     "output_type": "stream",
     "text": [
      "C:\\Users\\marta.zegota\\AppData\\Local\\Programs\\Python\\Python310\\lib\\site-packages\\seaborn\\distributions.py:2619: FutureWarning: `distplot` is a deprecated function and will be removed in a future version. Please adapt your code to use either `displot` (a figure-level function with similar flexibility) or `histplot` (an axes-level function for histograms).\n",
      "  warnings.warn(msg, FutureWarning)\n"
     ]
    },
    {
     "data": {
      "text/plain": [
       "<AxesSubplot:xlabel='Age', ylabel='Density'>"
      ]
     },
     "execution_count": 232,
     "metadata": {},
     "output_type": "execute_result"
    },
    {
     "data": {
      "image/png": "[encoded data removed]",
      "text/plain": [
       "<Figure size 432x288 with 1 Axes>"
      ]
     },
     "metadata": {
      "needs_background": "light"
     },
     "output_type": "display_data"
    }
   ],
   "source": [
    "sns.distplot(dff['Age'])"
   ]
  },
  {
   "cell_type": "markdown",
   "id": "ac3cfa93",
   "metadata": {},
   "source": [
    "Odp. Z powyższego histogramu wynika, że większość pracowników jest wieku pomiędzy 30 a 40 lat. Pojawiały się przypadki wieku ujemnego, co jest spowodowane błędnie podanymi w bazie datami urodzenia ('DOB'), np. 2063-05-15."
   ]
  },
  {
   "cell_type": "markdown",
   "id": "545a18ce",
   "metadata": {},
   "source": [
    "5. Czy starsi pracownicy pracują nad większą liczbą specjalnych projektów niż młodsi pracownicy?"
   ]
  },
  {
   "cell_type": "markdown",
   "id": "b0ff04f0",
   "metadata": {},
   "source": [
    "a) Wyłączam z analizy rekordy, w których znajdują się ujemne wartoście w kolumnie \"Age\" i brak wartości w kolumnie \"SpecialProjectsCount\"."
   ]
  },
  {
   "cell_type": "code",
   "execution_count": 233,
   "id": "8af60db4",
   "metadata": {},
   "outputs": [],
   "source": [
    "dfff = dff[(dff['Age'] > 0) & (dff['SpecialProjectsCount'] != 'NaN')]"
   ]
  },
  {
   "cell_type": "markdown",
   "id": "737acf0e",
   "metadata": {},
   "source": [
    "b) Na wykresie przestawiam zależność wieku pracowników od prowadzonych przez nich liczby specjalnych projektów."
   ]
  },
  {
   "cell_type": "code",
   "execution_count": 234,
   "id": "bee8ccb7",
   "metadata": {},
   "outputs": [
    {
     "data": {
      "text/plain": [
       "<seaborn.axisgrid.JointGrid at 0x2b9f0404d90>"
      ]
     },
     "execution_count": 234,
     "metadata": {},
     "output_type": "execute_result"
    },
    {
     "data": {
      "image/png": "[encoded data removed]",
      "text/plain": [
       "<Figure size 432x432 with 3 Axes>"
      ]
     },
     "metadata": {
      "needs_background": "light"
     },
     "output_type": "display_data"
    }
   ],
   "source": [
    "sns.jointplot(x='Age',y='SpecialProjectsCount',data=dfff,kind='hex')"
   ]
  },
  {
   "cell_type": "code",
   "execution_count": 235,
   "id": "9245f5fb",
   "metadata": {},
   "outputs": [
    {
     "data": {
      "text/plain": [
       "0.0    242\n",
       "6.0     21\n",
       "5.0     21\n",
       "7.0     12\n",
       "4.0      9\n",
       "3.0      2\n",
       "8.0      2\n",
       "2.0      1\n",
       "Name: SpecialProjectsCount, dtype: int64"
      ]
     },
     "execution_count": 235,
     "metadata": {},
     "output_type": "execute_result"
    }
   ],
   "source": [
    "dff['SpecialProjectsCount'].value_counts()"
   ]
  },
  {
   "cell_type": "markdown",
   "id": "3fa2732a",
   "metadata": {},
   "source": [
    "Odp. Na podstawie wykresu ciężko stwierdzić korelację pomiędzy badanymi zmiennymi - ciemniejsze sześciokąty wskazujące 5-6 projektów pojawiły się przy pracownikach w wieku 30-35 lat, co może wynikać z tego, że większość zatrudnionych w firmie pracowników to osoby pomiędzy 30 a 40 rokiem życia.\n",
    "Natomiast dolny rząd bardzo ciemnych sześciokątów nie wskazuje na żadną zależność, lecz informuje o relatywnie sporej ilości pracowników w wieku pomiędzy 30 a 45 lat, którym nie przydzielono żadnego specjalnego projektu."
   ]
  },
  {
   "cell_type": "code",
   "execution_count": null,
   "id": "8b26cbc1",
   "metadata": {},
   "outputs": [],
   "source": []
  }
 ],
 "metadata": {
  "kernelspec": {
   "display_name": "Python 3 (ipykernel)",
   "language": "python",
   "name": "python3"
  },
  "language_info": {
   "codemirror_mode": {
    "name": "ipython",
    "version": 3
   },
   "file_extension": ".py",
   "mimetype": "text/x-python",
   "name": "python",
   "nbconvert_exporter": "python",
   "pygments_lexer": "ipython3",
   "version": "3.10.4"
  }
 },
 "nbformat": 4,
 "nbformat_minor": 5
}
